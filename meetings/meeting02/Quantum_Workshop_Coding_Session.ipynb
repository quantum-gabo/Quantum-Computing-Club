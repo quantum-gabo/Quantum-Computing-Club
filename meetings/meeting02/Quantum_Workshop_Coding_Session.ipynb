{
  "cells": [
    {
      "cell_type": "markdown",
      "metadata": {
        "id": "91dU4lvFLOnS"
      },
      "source": [
        "# 🧠 Introduction to Quantum Computing: From Qubits to Circuits\n",
        "\n",
        "Welcome to this hands-on coding session on **Quantum Computing**!\n",
        "\n",
        "Today, we'll take our first steps into the world of quantum mechanics applied to computation. Using **Python** and **Qiskit** — IBM’s open-source quantum computing framework — we’ll explore the fundamental building blocks of quantum programs: **qubits**, **quantum gates**, and **quantum circuits**.\n",
        "\n",
        "Whether you're new to quantum computing or just starting to code with Qiskit, this notebook is designed to give you an intuitive, practical introduction.\n",
        "\n",
        "---\n",
        "\n",
        "### 🔧 What you'll learn:\n",
        "- What qubits are and how they differ from classical bits  \n",
        "- How to create and manipulate quantum states using gates like `H`, `X`, `Z`, and `CX`  \n",
        "- How to build, visualize, and simulate quantum circuits  \n",
        "- How measurement works in quantum mechanics  \n",
        "- How to interpret simulation results from quantum experiments\n",
        "\n",
        "---\n",
        "\n",
        "### 🚀 Getting Started\n",
        "\n",
        "1. **Download this notebook** (`.ipynb` file)\n",
        "2. **Open it in [Google Colab](https://colab.research.google.com/)** for a fully interactive experience (no setup needed!)\n",
        "3. Run each cell and explore the results. Feel free to tweak the code and ask *“what happens if...?”*\n",
        "\n",
        "---\n",
        "\n",
        "Let's dive into the quantum world — where information is weird, probabilities are powerful, and entanglement is your new best friend.\n"
      ]
    },
    {
      "cell_type": "markdown",
      "metadata": {
        "id": "XH0rGlyU0ZI9"
      },
      "source": [
        "## Install dependencies\n",
        "\n",
        "These are packages, pieces of code someone else wrote, that adds some features to python."
      ]
    },
    {
      "cell_type": "code",
      "execution_count": 3,
      "metadata": {},
      "outputs": [],
      "source": [
        "!pip install qiskit qiskit-aer matplotlib pylatexenc --quiet"
      ]
    },
    {
      "cell_type": "code",
      "execution_count": 5,
      "metadata": {},
      "outputs": [
        {
          "name": "stdout",
          "output_type": "stream",
          "text": [
            "Qiskit dependencies installed successfully.\n"
          ]
        }
      ],
      "source": [
        "from qiskit import QuantumCircuit, transpile\n",
        "from qiskit_aer import AerSimulator\n",
        "from qiskit.visualization import plot_histogram, plot_bloch_multivector\n",
        "import pylatexenc\n",
        "import matplotlib.pyplot as plt\n",
        "print(\"Qiskit dependencies installed successfully.\")"
      ]
    },
    {
      "cell_type": "markdown",
      "metadata": {
        "id": "sxediTzk1YgA"
      },
      "source": [
        "## 🧱 Qubits and Superposition\n",
        "\n",
        "In classical computing, the basic unit of information is the **bit**, which can be either `0` or `1`. In quantum computing, we use **qubits**.\n",
        "\n",
        "A **qubit** (quantum bit) can be in a state |0⟩, |1⟩, or any **superposition** of the two:\n",
        "\n",
        "$$\n",
        "|\\psi\\rangle = \\alpha|0\\rangle + \\beta|1\\rangle \\quad \\text{with} \\quad |\\alpha|^2 + |\\beta|^2 = 1\n",
        "$$\n",
        "\n",
        "We’ll use Qiskit to create and visualize qubit states. Let’s begin by importing the necessary modules and initializing a qubit.\n"
      ]
    },
    {
      "cell_type": "code",
      "execution_count": 10,
      "metadata": {},
      "outputs": [],
      "source": [
        "# We first need to define our simulator\n",
        "simulator = AerSimulator()"
      ]
    },
    {
      "cell_type": "code",
      "execution_count": 7,
      "metadata": {
        "id": "KePDDNsHyyeE"
      },
      "outputs": [
        {
          "data": {
            "image/png": "[encoded data removed]",
            "text/plain": [
              "<Figure size 143.647x117.056 with 1 Axes>"
            ]
          },
          "execution_count": 7,
          "metadata": {},
          "output_type": "execute_result"
        }
      ],
      "source": [
        "# Initialise a qbit \n",
        "qc = QuantumCircuit(1)\n",
        "qc.draw('mpl')"
      ]
    },
    {
      "cell_type": "code",
      "execution_count": 15,
      "metadata": {},
      "outputs": [
        {
          "data": {
            "image/png": "[encoded data removed]",
            "text/plain": [
              "<Figure size 185.453x200.667 with 1 Axes>"
            ]
          },
          "execution_count": 15,
          "metadata": {},
          "output_type": "execute_result"
        }
      ],
      "source": [
        "# Simulate the circuit and measure the qbit\n",
        "qc = QuantumCircuit(1, 1)\n",
        "qc.measure(0, 0)\n",
        "qc.draw('mpl')"
      ]
    },
    {
      "cell_type": "code",
      "execution_count": 16,
      "metadata": {},
      "outputs": [
        {
          "data": {
            "image/png": "[encoded data removed]",
            "text/plain": [
              "<Figure size 640x480 with 1 Axes>"
            ]
          },
          "execution_count": 16,
          "metadata": {},
          "output_type": "execute_result"
        }
      ],
      "source": [
        "# Simulate and measure \n",
        "results = simulator.run(transpile(qc, simulator), shots = 1024).result()\n",
        "counts = results.get_counts()\n",
        "plot_histogram(counts)"
      ]
    },
    {
      "cell_type": "code",
      "execution_count": 17,
      "metadata": {},
      "outputs": [
        {
          "data": {
            "image/png": "[encoded data removed]",
            "text/plain": [
              "<Figure size 269.064x200.667 with 1 Axes>"
            ]
          },
          "execution_count": 17,
          "metadata": {},
          "output_type": "execute_result"
        }
      ],
      "source": [
        "# Put our qbit in superposition\n",
        "qc = QuantumCircuit(1, 1)\n",
        "qc.h(0)\n",
        "qc.measure(0, 0)\n",
        "qc.draw('mpl')"
      ]
    },
    {
      "cell_type": "code",
      "execution_count": 18,
      "metadata": {},
      "outputs": [
        {
          "data": {
            "image/png": "[encoded data removed]",
            "text/plain": [
              "<Figure size 640x480 with 1 Axes>"
            ]
          },
          "execution_count": 18,
          "metadata": {},
          "output_type": "execute_result"
        }
      ],
      "source": [
        "# Simulate and measure \n",
        "results = simulator.run(transpile(qc, simulator), shots = 1024).result()\n",
        "counts = results.get_counts()\n",
        "plot_histogram(counts)"
      ]
    },
    {
      "cell_type": "markdown",
      "metadata": {
        "id": "vtzglwym1nIC"
      },
      "source": [
        "## 🎛️ Quantum Gates\n",
        "\n",
        "Quantum gates are the operations we apply to qubits to change their state. They are like logic gates in classical computing but act on quantum states using **unitary matrices**.\n",
        "\n",
        "Here are some basic single-qubit gates:\n",
        "\n",
        "- **X gate (NOT):** flips |0⟩ ↔ |1⟩  \n",
        "- **H gate (Hadamard):** creates superposition  \n",
        "- **Z gate:** adds a phase to |1⟩  \n",
        "- **S, T gates:** phase gates with π/2 and π/4 shifts\n",
        "\n",
        "We’ll now apply these gates to qubits and visualize how the state changes.\n"
      ]
    },
    {
      "cell_type": "markdown",
      "metadata": {},
      "source": [
        "\n",
        "### Hadamard (H) Gate\n",
        "- **Effect**: Creates superposition, putting a qubit in a mix of 0 and 1 (e.g., |0⟩ to (|0⟩ + |1⟩)/√2).\n",
        "- **Matrix Form**:\n",
        "  $$\n",
        "  H = \\frac{1}{\\sqrt{2}}\n",
        "  \\begin{bmatrix}\n",
        "  1 & 1 \\\\\n",
        "  1 & -1\n",
        "  \\end{bmatrix}\n",
        "  $$\n",
        "- **Analogy**: Like spinning a coin—it’s heads and tails until measured.\n",
        "- **Syntax**: `qc.h(0)` (apply to qubit 0).\n",
        "- **Example**: Applying H to |0⟩ gives ~50% chance of measuring 0 or 1."
      ]
    },
    {
      "cell_type": "code",
      "execution_count": 19,
      "metadata": {
        "id": "LlgAeqvT1odo"
      },
      "outputs": [
        {
          "data": {
            "image/png": "[encoded data removed]",
            "text/plain": [
              "<Figure size 269.064x200.667 with 1 Axes>"
            ]
          },
          "execution_count": 19,
          "metadata": {},
          "output_type": "execute_result"
        }
      ],
      "source": [
        "# Hadamard gate example\n",
        "qc = QuantumCircuit(1, 1)\n",
        "qc.h(0)\n",
        "qc.measure(0, 0)\n",
        "qc.draw('mpl')\n"
      ]
    },
    {
      "cell_type": "markdown",
      "metadata": {},
      "source": [
        "### X Gate\n",
        "- **Effect**: Flips the state of a qubit (|0⟩ to |1⟩ and vice versa).\n",
        "- **Matrix Form**:\n",
        "  $$\n",
        "  X = \\begin{bmatrix}\n",
        "  0 & 1 \\\\\n",
        "  1 & 0\n",
        "  \\end{bmatrix}\n",
        "  $$\n",
        "- **Analogy**: Like a light switch—turns on (1) or off (0).\n",
        "- **Syntax**: `qc.x(0)` (apply to qubit 0).\n",
        "- **Example**: Applying X to |0⟩ gives |1⟩."
      ]
    },
    {
      "cell_type": "code",
      "execution_count": 20,
      "metadata": {},
      "outputs": [
        {
          "data": {
            "image/png": "[encoded data removed]",
            "text/plain": [
              "<Figure size 269.064x200.667 with 1 Axes>"
            ]
          },
          "execution_count": 20,
          "metadata": {},
          "output_type": "execute_result"
        }
      ],
      "source": [
        "qc = QuantumCircuit(1, 1)\n",
        "qc.x(0)\n",
        "qc.measure(0, 0)\n",
        "qc.draw('mpl')"
      ]
    },
    {
      "cell_type": "markdown",
      "metadata": {},
      "source": [
        "### Z Gate\n",
        "- **Effect**: Adds a phase to the |1⟩ state (|0⟩ remains unchanged).\n",
        "- **Matrix Form**:\n",
        "  $$\n",
        "  Z = \\begin{bmatrix}\n",
        "  1 & 0 \\\\\n",
        "  0 & -1\n",
        "  \\end{bmatrix}\n",
        "  $$\n",
        "- **Analogy**: Like a phase shift in sound waves—changes the wave without changing its amplitude.\n",
        "- **Syntax**: `qc.z(0)` (apply to qubit 0).\n",
        "- **Example**: Applying Z to |1⟩ gives -|1⟩ (flips the sign)."
      ]
    },
    {
      "cell_type": "code",
      "execution_count": 21,
      "metadata": {},
      "outputs": [
        {
          "data": {
            "image/png": "[encoded data removed]",
            "text/plain": [
              "<Figure size 269.064x200.667 with 1 Axes>"
            ]
          },
          "execution_count": 21,
          "metadata": {},
          "output_type": "execute_result"
        }
      ],
      "source": [
        "qc = QuantumCircuit(1, 1)\n",
        "qc.z(0)\n",
        "qc.measure(0, 0)\n",
        "qc.draw('mpl')"
      ]
    },
    {
      "cell_type": "markdown",
      "metadata": {},
      "source": [
        "### CNOT (CX) Gate\n",
        "- **Effect**: A two-qubit gate that flips the second qubit (target) if the first qubit (control) is |1⟩.\n",
        "- **Matrix Form**:\n",
        "  $$\n",
        "  CX = \\begin{bmatrix}\n",
        "  1 & 0 & 0 & 0 \\\\\n",
        "  0 & 1 & 0 & 0 \\\\\n",
        "  0 & 0 & 0 & 1 \\\\\n",
        "  0 & 0 & 1 & 0\n",
        "  \\end{bmatrix}\n",
        "  $$\n",
        "- **Analogy**: Like a light switch that controls another light—if the first is on, the second turns on.\n",
        "- **Syntax**: `qc.cx(0, 1)` (apply to qubits 0 and 1).\n",
        "- **Example**: If qubit 0 is |1⟩ and qubit 1 is |0⟩, applying CX flips qubit 1 to |1⟩."
      ]
    },
    {
      "cell_type": "code",
      "execution_count": 22,
      "metadata": {},
      "outputs": [
        {
          "data": {
            "image/png": "[encoded data removed]",
            "text/plain": [
              "<Figure size 370.906x284.278 with 1 Axes>"
            ]
          },
          "execution_count": 22,
          "metadata": {},
          "output_type": "execute_result"
        }
      ],
      "source": [
        "qc = QuantumCircuit(2, 2)\n",
        "qc.cx(0, 1)\n",
        "qc.measure(0, 0)\n",
        "qc.measure(1, 1)\n",
        "qc.draw('mpl')\n"
      ]
    },
    {
      "cell_type": "markdown",
      "metadata": {
        "id": "4C5V6UGr1s6q"
      },
      "source": [
        "## 📏 Measurement and Histograms\n",
        "\n",
        "In quantum computing, **measurement collapses** a qubit to either |0⟩ or |1⟩. The result is probabilistic based on the qubit’s state.\n",
        "\n",
        "For example, if a qubit is in state:\n",
        "\n",
        "$$\n",
        "|\\psi\\rangle = \\frac{1}{\\sqrt{2}}(|0\\rangle + |1\\rangle)\n",
        "$$\n",
        "\n",
        "Then measuring it will give `0` or `1` with 50% probability each. Let’s run some measurements and plot the results using histograms.\n"
      ]
    },
    {
      "cell_type": "code",
      "execution_count": null,
      "metadata": {
        "id": "CHyY-l2P1tlK"
      },
      "outputs": [],
      "source": []
    },
    {
      "cell_type": "markdown",
      "metadata": {
        "id": "PwfxcUO02JPn"
      },
      "source": [
        "## 🔗 Multi-Qubit Circuits and Entanglement\n",
        "\n",
        "Quantum circuits can include multiple qubits and gates acting across them. This enables powerful phenomena like **entanglement**, where the state of one qubit depends on another.\n",
        "\n",
        "A famous example is the **Bell state**:\n",
        "\n",
        "$$\n",
        "|\\Phi^+\\rangle = \\frac{1}{\\sqrt{2}}(|00\\rangle + |11\\rangle)\n",
        "$$\n",
        "\n",
        "We can build a Bell state by applying a Hadamard gate followed by a CNOT gate. Let’s try it.\n"
      ]
    },
    {
      "cell_type": "code",
      "execution_count": null,
      "metadata": {
        "id": "2Vv03ZRX2Pnx"
      },
      "outputs": [],
      "source": []
    },
    {
      "cell_type": "markdown",
      "metadata": {
        "id": "XRsXf5MV2Saj"
      },
      "source": [
        "## 🧠 Wrap-Up and Exploration\n",
        "\n",
        "You’ve learned how to:\n",
        "- Create and manipulate qubits\n",
        "- Apply quantum gates\n",
        "- Perform measurements\n",
        "- Visualize results with histograms\n",
        "- Build simple entangled states\n",
        "\n",
        "This is just the beginning of quantum computing! Try modifying circuits, creating new gates, and running different simulations. Can you make a 3-qubit entangled state?\n"
      ]
    }
  ],
  "metadata": {
    "colab": {
      "provenance": []
    },
    "kernelspec": {
      "display_name": "qnickel",
      "language": "python",
      "name": "python3"
    },
    "language_info": {
      "codemirror_mode": {
        "name": "ipython",
        "version": 3
      },
      "file_extension": ".py",
      "mimetype": "text/x-python",
      "name": "python",
      "nbconvert_exporter": "python",
      "pygments_lexer": "ipython3",
      "version": "3.10.16"
    }
  },
  "nbformat": 4,
  "nbformat_minor": 0
}
